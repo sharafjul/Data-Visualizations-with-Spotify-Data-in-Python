{
 "cells": [
  {
   "cell_type": "code",
   "execution_count": 1,
   "metadata": {},
   "outputs": [],
   "source": [
    "import pandas as pd\n",
    "import matplotlib.pyplot as plt\n",
    "import numpy as np\n",
    "import seaborn as sns\n",
    "from datetime import date"
   ]
  },
  {
   "cell_type": "markdown",
   "metadata": {},
   "source": [
    "## Import Excel data"
   ]
  },
  {
   "cell_type": "code",
   "execution_count": 5,
   "metadata": {},
   "outputs": [
    {
     "data": {
      "text/html": [
       "<div>\n",
       "<style scoped>\n",
       "    .dataframe tbody tr th:only-of-type {\n",
       "        vertical-align: middle;\n",
       "    }\n",
       "\n",
       "    .dataframe tbody tr th {\n",
       "        vertical-align: top;\n",
       "    }\n",
       "\n",
       "    .dataframe thead th {\n",
       "        text-align: right;\n",
       "    }\n",
       "</style>\n",
       "<table border=\"1\" class=\"dataframe\">\n",
       "  <thead>\n",
       "    <tr style=\"text-align: right;\">\n",
       "      <th></th>\n",
       "      <th>endTime</th>\n",
       "      <th>date</th>\n",
       "      <th>wkday</th>\n",
       "      <th>time</th>\n",
       "      <th>artistName</th>\n",
       "      <th>trackName</th>\n",
       "      <th>msPlayed</th>\n",
       "      <th>minsPlayed</th>\n",
       "      <th>Include Song</th>\n",
       "    </tr>\n",
       "  </thead>\n",
       "  <tbody>\n",
       "    <tr>\n",
       "      <th>0</th>\n",
       "      <td>2021-09-29 18:56</td>\n",
       "      <td>2021-09-29</td>\n",
       "      <td>Wed</td>\n",
       "      <td>18:56</td>\n",
       "      <td>MiyaGi &amp; Endspiel</td>\n",
       "      <td>I Got Love</td>\n",
       "      <td>194017</td>\n",
       "      <td>3.233617</td>\n",
       "      <td>Yes</td>\n",
       "    </tr>\n",
       "    <tr>\n",
       "      <th>1</th>\n",
       "      <td>2021-09-30 00:29</td>\n",
       "      <td>2021-09-30</td>\n",
       "      <td>Thu</td>\n",
       "      <td>00:29</td>\n",
       "      <td>MiyaGi &amp; Endspiel</td>\n",
       "      <td>I Got Love</td>\n",
       "      <td>82922</td>\n",
       "      <td>1.382033</td>\n",
       "      <td>No</td>\n",
       "    </tr>\n",
       "    <tr>\n",
       "      <th>2</th>\n",
       "      <td>2021-09-30 00:34</td>\n",
       "      <td>2021-09-30</td>\n",
       "      <td>Thu</td>\n",
       "      <td>00:34</td>\n",
       "      <td>GUF</td>\n",
       "      <td>Лето на ветер</td>\n",
       "      <td>259799</td>\n",
       "      <td>4.329983</td>\n",
       "      <td>Yes</td>\n",
       "    </tr>\n",
       "    <tr>\n",
       "      <th>3</th>\n",
       "      <td>2021-09-30 00:40</td>\n",
       "      <td>2021-09-30</td>\n",
       "      <td>Thu</td>\n",
       "      <td>00:40</td>\n",
       "      <td>Aleksandr Ivanov</td>\n",
       "      <td>Боже, Какой Пустяк</td>\n",
       "      <td>327520</td>\n",
       "      <td>5.458667</td>\n",
       "      <td>Yes</td>\n",
       "    </tr>\n",
       "    <tr>\n",
       "      <th>4</th>\n",
       "      <td>2021-09-30 00:43</td>\n",
       "      <td>2021-09-30</td>\n",
       "      <td>Thu</td>\n",
       "      <td>00:43</td>\n",
       "      <td>Manizha</td>\n",
       "      <td>I Love Too Much</td>\n",
       "      <td>195880</td>\n",
       "      <td>3.264667</td>\n",
       "      <td>Yes</td>\n",
       "    </tr>\n",
       "    <tr>\n",
       "      <th>...</th>\n",
       "      <td>...</td>\n",
       "      <td>...</td>\n",
       "      <td>...</td>\n",
       "      <td>...</td>\n",
       "      <td>...</td>\n",
       "      <td>...</td>\n",
       "      <td>...</td>\n",
       "      <td>...</td>\n",
       "      <td>...</td>\n",
       "    </tr>\n",
       "    <tr>\n",
       "      <th>1876</th>\n",
       "      <td>2022-09-30 21:20</td>\n",
       "      <td>2022-09-30</td>\n",
       "      <td>Fri</td>\n",
       "      <td>21:20</td>\n",
       "      <td>Anna Naklab</td>\n",
       "      <td>Supergirl - Radio Edit</td>\n",
       "      <td>212409</td>\n",
       "      <td>3.540150</td>\n",
       "      <td>Yes</td>\n",
       "    </tr>\n",
       "    <tr>\n",
       "      <th>1877</th>\n",
       "      <td>2022-09-30 21:25</td>\n",
       "      <td>2022-09-30</td>\n",
       "      <td>Fri</td>\n",
       "      <td>21:25</td>\n",
       "      <td>Son Little</td>\n",
       "      <td>Mad About You</td>\n",
       "      <td>213136</td>\n",
       "      <td>3.552267</td>\n",
       "      <td>Yes</td>\n",
       "    </tr>\n",
       "    <tr>\n",
       "      <th>1878</th>\n",
       "      <td>2022-09-30 21:38</td>\n",
       "      <td>2022-09-30</td>\n",
       "      <td>Fri</td>\n",
       "      <td>21:38</td>\n",
       "      <td>Rok-Ostrova</td>\n",
       "      <td>Ничего не говори</td>\n",
       "      <td>194046</td>\n",
       "      <td>3.234100</td>\n",
       "      <td>Yes</td>\n",
       "    </tr>\n",
       "    <tr>\n",
       "      <th>1879</th>\n",
       "      <td>2022-09-30 21:43</td>\n",
       "      <td>2022-09-30</td>\n",
       "      <td>Fri</td>\n",
       "      <td>21:43</td>\n",
       "      <td>Musia Totibadze</td>\n",
       "      <td>Правда о любви</td>\n",
       "      <td>245568</td>\n",
       "      <td>4.092800</td>\n",
       "      <td>Yes</td>\n",
       "    </tr>\n",
       "    <tr>\n",
       "      <th>1880</th>\n",
       "      <td>2022-09-30 21:45</td>\n",
       "      <td>2022-09-30</td>\n",
       "      <td>Fri</td>\n",
       "      <td>21:45</td>\n",
       "      <td>Nicholas Hill</td>\n",
       "      <td>You Were the One</td>\n",
       "      <td>97578</td>\n",
       "      <td>1.626300</td>\n",
       "      <td>No</td>\n",
       "    </tr>\n",
       "  </tbody>\n",
       "</table>\n",
       "<p>1881 rows × 9 columns</p>\n",
       "</div>"
      ],
      "text/plain": [
       "               endTime        date wkday   time         artistName  \\\n",
       "0     2021-09-29 18:56  2021-09-29   Wed  18:56  MiyaGi & Endspiel   \n",
       "1     2021-09-30 00:29  2021-09-30   Thu  00:29  MiyaGi & Endspiel   \n",
       "2     2021-09-30 00:34  2021-09-30   Thu  00:34                GUF   \n",
       "3     2021-09-30 00:40  2021-09-30   Thu  00:40   Aleksandr Ivanov   \n",
       "4     2021-09-30 00:43  2021-09-30   Thu  00:43            Manizha   \n",
       "...                ...         ...   ...    ...                ...   \n",
       "1876  2022-09-30 21:20  2022-09-30   Fri  21:20        Anna Naklab   \n",
       "1877  2022-09-30 21:25  2022-09-30   Fri  21:25         Son Little   \n",
       "1878  2022-09-30 21:38  2022-09-30   Fri  21:38        Rok-Ostrova   \n",
       "1879  2022-09-30 21:43  2022-09-30   Fri  21:43    Musia Totibadze   \n",
       "1880  2022-09-30 21:45  2022-09-30   Fri  21:45      Nicholas Hill   \n",
       "\n",
       "                   trackName  msPlayed  minsPlayed Include Song  \n",
       "0                 I Got Love    194017    3.233617          Yes  \n",
       "1                 I Got Love     82922    1.382033           No  \n",
       "2              Лето на ветер    259799    4.329983          Yes  \n",
       "3         Боже, Какой Пустяк    327520    5.458667          Yes  \n",
       "4            I Love Too Much    195880    3.264667          Yes  \n",
       "...                      ...       ...         ...          ...  \n",
       "1876  Supergirl - Radio Edit    212409    3.540150          Yes  \n",
       "1877           Mad About You    213136    3.552267          Yes  \n",
       "1878        Ничего не говори    194046    3.234100          Yes  \n",
       "1879          Правда о любви    245568    4.092800          Yes  \n",
       "1880        You Were the One     97578    1.626300           No  \n",
       "\n",
       "[1881 rows x 9 columns]"
      ]
     },
     "execution_count": 5,
     "metadata": {},
     "output_type": "execute_result"
    }
   ],
   "source": [
    "df = pd.read_excel('/Users/administrator/Desktop/gitHUB/Creating_visualizations_with_Spotify_data_ /MyData/StreamingHistory0.json.xlsx')\n",
    "\n",
    "def load_data(file):                                                    \n",
    "    return pd.read_csv(file, sep = \",\", index_col = False, header=0)\n",
    "df = pd.read_excel(\"StreamingHistory0.json.xlsx\")\n",
    "df"
   ]
  },
  {
   "cell_type": "code",
   "execution_count": 6,
   "metadata": {},
   "outputs": [],
   "source": [
    "#assigning a variable to the skipped songs, played for less than 2 minutes\n",
    "skippedsongs = df[ df['Include Song'] == \"No\" ].index \n",
    "\n",
    "#dropping skipped songs\n",
    "df.drop(skippedsongs, inplace = True) "
   ]
  },
  {
   "cell_type": "markdown",
   "metadata": {},
   "source": [
    "New data set without the songs played for <2min"
   ]
  },
  {
   "cell_type": "code",
   "execution_count": 7,
   "metadata": {},
   "outputs": [
    {
     "data": {
      "text/html": [
       "<div>\n",
       "<style scoped>\n",
       "    .dataframe tbody tr th:only-of-type {\n",
       "        vertical-align: middle;\n",
       "    }\n",
       "\n",
       "    .dataframe tbody tr th {\n",
       "        vertical-align: top;\n",
       "    }\n",
       "\n",
       "    .dataframe thead th {\n",
       "        text-align: right;\n",
       "    }\n",
       "</style>\n",
       "<table border=\"1\" class=\"dataframe\">\n",
       "  <thead>\n",
       "    <tr style=\"text-align: right;\">\n",
       "      <th></th>\n",
       "      <th>endTime</th>\n",
       "      <th>date</th>\n",
       "      <th>wkday</th>\n",
       "      <th>time</th>\n",
       "      <th>artistName</th>\n",
       "      <th>trackName</th>\n",
       "      <th>msPlayed</th>\n",
       "      <th>minsPlayed</th>\n",
       "      <th>Include Song</th>\n",
       "    </tr>\n",
       "  </thead>\n",
       "  <tbody>\n",
       "    <tr>\n",
       "      <th>0</th>\n",
       "      <td>2021-09-29 18:56</td>\n",
       "      <td>2021-09-29</td>\n",
       "      <td>Wed</td>\n",
       "      <td>18:56</td>\n",
       "      <td>MiyaGi &amp; Endspiel</td>\n",
       "      <td>I Got Love</td>\n",
       "      <td>194017</td>\n",
       "      <td>3.233617</td>\n",
       "      <td>Yes</td>\n",
       "    </tr>\n",
       "    <tr>\n",
       "      <th>2</th>\n",
       "      <td>2021-09-30 00:34</td>\n",
       "      <td>2021-09-30</td>\n",
       "      <td>Thu</td>\n",
       "      <td>00:34</td>\n",
       "      <td>GUF</td>\n",
       "      <td>Лето на ветер</td>\n",
       "      <td>259799</td>\n",
       "      <td>4.329983</td>\n",
       "      <td>Yes</td>\n",
       "    </tr>\n",
       "    <tr>\n",
       "      <th>3</th>\n",
       "      <td>2021-09-30 00:40</td>\n",
       "      <td>2021-09-30</td>\n",
       "      <td>Thu</td>\n",
       "      <td>00:40</td>\n",
       "      <td>Aleksandr Ivanov</td>\n",
       "      <td>Боже, Какой Пустяк</td>\n",
       "      <td>327520</td>\n",
       "      <td>5.458667</td>\n",
       "      <td>Yes</td>\n",
       "    </tr>\n",
       "    <tr>\n",
       "      <th>4</th>\n",
       "      <td>2021-09-30 00:43</td>\n",
       "      <td>2021-09-30</td>\n",
       "      <td>Thu</td>\n",
       "      <td>00:43</td>\n",
       "      <td>Manizha</td>\n",
       "      <td>I Love Too Much</td>\n",
       "      <td>195880</td>\n",
       "      <td>3.264667</td>\n",
       "      <td>Yes</td>\n",
       "    </tr>\n",
       "    <tr>\n",
       "      <th>5</th>\n",
       "      <td>2021-09-30 00:47</td>\n",
       "      <td>2021-09-30</td>\n",
       "      <td>Thu</td>\n",
       "      <td>00:47</td>\n",
       "      <td>Blank &amp; Jones</td>\n",
       "      <td>Fallen</td>\n",
       "      <td>246186</td>\n",
       "      <td>4.103100</td>\n",
       "      <td>Yes</td>\n",
       "    </tr>\n",
       "    <tr>\n",
       "      <th>...</th>\n",
       "      <td>...</td>\n",
       "      <td>...</td>\n",
       "      <td>...</td>\n",
       "      <td>...</td>\n",
       "      <td>...</td>\n",
       "      <td>...</td>\n",
       "      <td>...</td>\n",
       "      <td>...</td>\n",
       "      <td>...</td>\n",
       "    </tr>\n",
       "    <tr>\n",
       "      <th>1875</th>\n",
       "      <td>2022-09-30 21:17</td>\n",
       "      <td>2022-09-30</td>\n",
       "      <td>Fri</td>\n",
       "      <td>21:17</td>\n",
       "      <td>Blank &amp; Jones</td>\n",
       "      <td>Pura Vida</td>\n",
       "      <td>216259</td>\n",
       "      <td>3.604317</td>\n",
       "      <td>Yes</td>\n",
       "    </tr>\n",
       "    <tr>\n",
       "      <th>1876</th>\n",
       "      <td>2022-09-30 21:20</td>\n",
       "      <td>2022-09-30</td>\n",
       "      <td>Fri</td>\n",
       "      <td>21:20</td>\n",
       "      <td>Anna Naklab</td>\n",
       "      <td>Supergirl - Radio Edit</td>\n",
       "      <td>212409</td>\n",
       "      <td>3.540150</td>\n",
       "      <td>Yes</td>\n",
       "    </tr>\n",
       "    <tr>\n",
       "      <th>1877</th>\n",
       "      <td>2022-09-30 21:25</td>\n",
       "      <td>2022-09-30</td>\n",
       "      <td>Fri</td>\n",
       "      <td>21:25</td>\n",
       "      <td>Son Little</td>\n",
       "      <td>Mad About You</td>\n",
       "      <td>213136</td>\n",
       "      <td>3.552267</td>\n",
       "      <td>Yes</td>\n",
       "    </tr>\n",
       "    <tr>\n",
       "      <th>1878</th>\n",
       "      <td>2022-09-30 21:38</td>\n",
       "      <td>2022-09-30</td>\n",
       "      <td>Fri</td>\n",
       "      <td>21:38</td>\n",
       "      <td>Rok-Ostrova</td>\n",
       "      <td>Ничего не говори</td>\n",
       "      <td>194046</td>\n",
       "      <td>3.234100</td>\n",
       "      <td>Yes</td>\n",
       "    </tr>\n",
       "    <tr>\n",
       "      <th>1879</th>\n",
       "      <td>2022-09-30 21:43</td>\n",
       "      <td>2022-09-30</td>\n",
       "      <td>Fri</td>\n",
       "      <td>21:43</td>\n",
       "      <td>Musia Totibadze</td>\n",
       "      <td>Правда о любви</td>\n",
       "      <td>245568</td>\n",
       "      <td>4.092800</td>\n",
       "      <td>Yes</td>\n",
       "    </tr>\n",
       "  </tbody>\n",
       "</table>\n",
       "<p>1178 rows × 9 columns</p>\n",
       "</div>"
      ],
      "text/plain": [
       "               endTime        date wkday   time         artistName  \\\n",
       "0     2021-09-29 18:56  2021-09-29   Wed  18:56  MiyaGi & Endspiel   \n",
       "2     2021-09-30 00:34  2021-09-30   Thu  00:34                GUF   \n",
       "3     2021-09-30 00:40  2021-09-30   Thu  00:40   Aleksandr Ivanov   \n",
       "4     2021-09-30 00:43  2021-09-30   Thu  00:43            Manizha   \n",
       "5     2021-09-30 00:47  2021-09-30   Thu  00:47      Blank & Jones   \n",
       "...                ...         ...   ...    ...                ...   \n",
       "1875  2022-09-30 21:17  2022-09-30   Fri  21:17      Blank & Jones   \n",
       "1876  2022-09-30 21:20  2022-09-30   Fri  21:20        Anna Naklab   \n",
       "1877  2022-09-30 21:25  2022-09-30   Fri  21:25         Son Little   \n",
       "1878  2022-09-30 21:38  2022-09-30   Fri  21:38        Rok-Ostrova   \n",
       "1879  2022-09-30 21:43  2022-09-30   Fri  21:43    Musia Totibadze   \n",
       "\n",
       "                   trackName  msPlayed  minsPlayed Include Song  \n",
       "0                 I Got Love    194017    3.233617          Yes  \n",
       "2              Лето на ветер    259799    4.329983          Yes  \n",
       "3         Боже, Какой Пустяк    327520    5.458667          Yes  \n",
       "4            I Love Too Much    195880    3.264667          Yes  \n",
       "5                     Fallen    246186    4.103100          Yes  \n",
       "...                      ...       ...         ...          ...  \n",
       "1875               Pura Vida    216259    3.604317          Yes  \n",
       "1876  Supergirl - Radio Edit    212409    3.540150          Yes  \n",
       "1877           Mad About You    213136    3.552267          Yes  \n",
       "1878        Ничего не говори    194046    3.234100          Yes  \n",
       "1879          Правда о любви    245568    4.092800          Yes  \n",
       "\n",
       "[1178 rows x 9 columns]"
      ]
     },
     "execution_count": 7,
     "metadata": {},
     "output_type": "execute_result"
    }
   ],
   "source": [
    "df "
   ]
  },
  {
   "cell_type": "code",
   "execution_count": 8,
   "metadata": {},
   "outputs": [
    {
     "data": {
      "text/plain": [
       "endTime         1178\n",
       "date            1178\n",
       "wkday           1178\n",
       "time            1178\n",
       "artistName      1178\n",
       "trackName       1178\n",
       "msPlayed        1178\n",
       "minsPlayed      1178\n",
       "Include Song    1178\n",
       "dtype: int64"
      ]
     },
     "execution_count": 8,
     "metadata": {},
     "output_type": "execute_result"
    }
   ],
   "source": [
    "#value count for each variable (in each column)\n",
    "df.count()"
   ]
  },
  {
   "cell_type": "code",
   "execution_count": 10,
   "metadata": {},
   "outputs": [
    {
     "name": "stdout",
     "output_type": "stream",
     "text": [
      "(1178, 9)\n"
     ]
    }
   ],
   "source": [
    "#shape of the dataset - (rows, columns)\n",
    "print(df.shape)"
   ]
  },
  {
   "cell_type": "markdown",
   "metadata": {},
   "source": [
    "## Goal: What day of the week are songs streamed most?"
   ]
  },
  {
   "cell_type": "code",
   "execution_count": 11,
   "metadata": {},
   "outputs": [
    {
     "data": {
      "text/html": [
       "<div>\n",
       "<style scoped>\n",
       "    .dataframe tbody tr th:only-of-type {\n",
       "        vertical-align: middle;\n",
       "    }\n",
       "\n",
       "    .dataframe tbody tr th {\n",
       "        vertical-align: top;\n",
       "    }\n",
       "\n",
       "    .dataframe thead th {\n",
       "        text-align: right;\n",
       "    }\n",
       "</style>\n",
       "<table border=\"1\" class=\"dataframe\">\n",
       "  <thead>\n",
       "    <tr style=\"text-align: right;\">\n",
       "      <th></th>\n",
       "      <th>date</th>\n",
       "      <th>wkday</th>\n",
       "      <th>minsPlayed</th>\n",
       "    </tr>\n",
       "  </thead>\n",
       "  <tbody>\n",
       "    <tr>\n",
       "      <th>0</th>\n",
       "      <td>2021-09-29</td>\n",
       "      <td>Wed</td>\n",
       "      <td>3.233617</td>\n",
       "    </tr>\n",
       "    <tr>\n",
       "      <th>2</th>\n",
       "      <td>2021-09-30</td>\n",
       "      <td>Thu</td>\n",
       "      <td>4.329983</td>\n",
       "    </tr>\n",
       "    <tr>\n",
       "      <th>3</th>\n",
       "      <td>2021-09-30</td>\n",
       "      <td>Thu</td>\n",
       "      <td>5.458667</td>\n",
       "    </tr>\n",
       "    <tr>\n",
       "      <th>4</th>\n",
       "      <td>2021-09-30</td>\n",
       "      <td>Thu</td>\n",
       "      <td>3.264667</td>\n",
       "    </tr>\n",
       "    <tr>\n",
       "      <th>5</th>\n",
       "      <td>2021-09-30</td>\n",
       "      <td>Thu</td>\n",
       "      <td>4.103100</td>\n",
       "    </tr>\n",
       "    <tr>\n",
       "      <th>...</th>\n",
       "      <td>...</td>\n",
       "      <td>...</td>\n",
       "      <td>...</td>\n",
       "    </tr>\n",
       "    <tr>\n",
       "      <th>1875</th>\n",
       "      <td>2022-09-30</td>\n",
       "      <td>Fri</td>\n",
       "      <td>3.604317</td>\n",
       "    </tr>\n",
       "    <tr>\n",
       "      <th>1876</th>\n",
       "      <td>2022-09-30</td>\n",
       "      <td>Fri</td>\n",
       "      <td>3.540150</td>\n",
       "    </tr>\n",
       "    <tr>\n",
       "      <th>1877</th>\n",
       "      <td>2022-09-30</td>\n",
       "      <td>Fri</td>\n",
       "      <td>3.552267</td>\n",
       "    </tr>\n",
       "    <tr>\n",
       "      <th>1878</th>\n",
       "      <td>2022-09-30</td>\n",
       "      <td>Fri</td>\n",
       "      <td>3.234100</td>\n",
       "    </tr>\n",
       "    <tr>\n",
       "      <th>1879</th>\n",
       "      <td>2022-09-30</td>\n",
       "      <td>Fri</td>\n",
       "      <td>4.092800</td>\n",
       "    </tr>\n",
       "  </tbody>\n",
       "</table>\n",
       "<p>1178 rows × 3 columns</p>\n",
       "</div>"
      ],
      "text/plain": [
       "            date wkday  minsPlayed\n",
       "0     2021-09-29   Wed    3.233617\n",
       "2     2021-09-30   Thu    4.329983\n",
       "3     2021-09-30   Thu    5.458667\n",
       "4     2021-09-30   Thu    3.264667\n",
       "5     2021-09-30   Thu    4.103100\n",
       "...          ...   ...         ...\n",
       "1875  2022-09-30   Fri    3.604317\n",
       "1876  2022-09-30   Fri    3.540150\n",
       "1877  2022-09-30   Fri    3.552267\n",
       "1878  2022-09-30   Fri    3.234100\n",
       "1879  2022-09-30   Fri    4.092800\n",
       "\n",
       "[1178 rows x 3 columns]"
      ]
     },
     "execution_count": 11,
     "metadata": {},
     "output_type": "execute_result"
    }
   ],
   "source": [
    "# select columns\n",
    "df[['date','wkday', 'minsPlayed']]"
   ]
  },
  {
   "cell_type": "code",
   "execution_count": 12,
   "metadata": {},
   "outputs": [],
   "source": [
    "#Assigning a variable to the week days to keep them in order for visuals\n",
    "day = [ 'Mon', 'Tue', 'Wed', 'Thu', 'Fri', 'Sat', 'Sun']"
   ]
  },
  {
   "cell_type": "code",
   "execution_count": 13,
   "metadata": {},
   "outputs": [
    {
     "data": {
      "text/plain": [
       "wkday\n",
       "Mon    300.962050\n",
       "Tue    199.993617\n",
       "Wed    491.951433\n",
       "Thu    754.504400\n",
       "Fri    639.854250\n",
       "Sat    814.069150\n",
       "Sun    998.457817\n",
       "Name: minsPlayed, dtype: float64"
      ]
     },
     "execution_count": 13,
     "metadata": {},
     "output_type": "execute_result"
    }
   ],
   "source": [
    "# Counting up the minutes played each day of the week for the data period\n",
    "mins=df.groupby('wkday')['minsPlayed'].sum().reindex(day)\n",
    "mins"
   ]
  },
  {
   "cell_type": "code",
   "execution_count": 14,
   "metadata": {},
   "outputs": [
    {
     "data": {
      "image/png": "[encoded data removed]",
      "text/plain": [
       "<Figure size 432x288 with 1 Axes>"
      ]
     },
     "metadata": {
      "needs_background": "light"
     },
     "output_type": "display_data"
    }
   ],
   "source": [
    "# Creating the graph to display minutes listened on each day\n",
    "\n",
    "min_day = df.groupby('wkday')['minsPlayed'].sum().reindex(day)\n",
    "plt.plot(min_day, color='Green', marker=\"o\", mfc='black', mec= \"k\")\n",
    "#mfc= 'marker face color', mec= 'marker edge color'\n",
    "plt.ylabel('Minutes Listened')\n",
    "plt.title('Total Minutes Listened per Day')\n",
    "plt.show()"
   ]
  },
  {
   "cell_type": "markdown",
   "metadata": {},
   "source": [
    "Findings: Here we can see that the user listened to music the most on Sunday and the least on Tuesday . With this information, new music ads should be played on those days because the user is more likely to see it!"
   ]
  },
  {
   "cell_type": "markdown",
   "metadata": {},
   "source": [
    "## Goal: Top 10 Streamed Songs"
   ]
  },
  {
   "cell_type": "code",
   "execution_count": 15,
   "metadata": {},
   "outputs": [
    {
     "data": {
      "text/plain": [
       "Ты пари              48\n",
       "Kava                 43\n",
       "Dirty Dirty          25\n",
       "Hold Me Closer       24\n",
       "Memento Interlude    22\n",
       "                     ..\n",
       "Milk                  1\n",
       "Save Me               1\n",
       "Бутылочка             1\n",
       "Meaningless           1\n",
       "Sex to Me             1\n",
       "Name: trackName, Length: 269, dtype: int64"
      ]
     },
     "execution_count": 15,
     "metadata": {},
     "output_type": "execute_result"
    }
   ],
   "source": [
    "# View the number of times each track name appears in the data\n",
    "pd.value_counts(df['trackName'])"
   ]
  },
  {
   "cell_type": "code",
   "execution_count": 16,
   "metadata": {},
   "outputs": [
    {
     "data": {
      "text/plain": [
       "Ты пари                                        48\n",
       "Kava                                           43\n",
       "Dirty Dirty                                    25\n",
       "Hold Me Closer                                 24\n",
       "Memento Interlude                              22\n",
       "Cold Heart - PNAU Remix                        19\n",
       "Я знаю какая ты (feat. Скриптонит & Maqlao)    17\n",
       "I Got Love                                     16\n",
       "Чи разом?                                      15\n",
       "Broken Soul                                    15\n",
       "Name: trackName, dtype: int64"
      ]
     },
     "execution_count": 16,
     "metadata": {},
     "output_type": "execute_result"
    }
   ],
   "source": [
    "#Display the first 10 tracks in the \"trackName\" column\n",
    "pd.value_counts(df['trackName']).head(10)"
   ]
  },
  {
   "cell_type": "code",
   "execution_count": 17,
   "metadata": {},
   "outputs": [
    {
     "data": {
      "text/plain": [
       "Text(0, 0.5, 'Count')"
      ]
     },
     "execution_count": 17,
     "metadata": {},
     "output_type": "execute_result"
    },
    {
     "data": {
      "image/png": "[encoded data removed]",
      "text/plain": [
       "<Figure size 432x288 with 1 Axes>"
      ]
     },
     "metadata": {
      "needs_background": "light"
     },
     "output_type": "display_data"
    }
   ],
   "source": [
    "#Create a bar graph showing top 10 played song and times they were streamed with in the period of time\n",
    "pd.value_counts(df['trackName']).head(10).plot(kind='bar',color='blue')\n",
    "plt.xticks(rotation=45, ha='right')\n",
    "plt.title('Top Ten Streamed Songs')\n",
    "plt.ylabel('Count')"
   ]
  },
  {
   "cell_type": "markdown",
   "metadata": {},
   "source": [
    "Findings: Most listened to song is ' Ты пари '. With these songs in mind, Spotify may want to create an algorithm that auto-plays music in the same genres or artists for this user."
   ]
  },
  {
   "cell_type": "markdown",
   "metadata": {},
   "source": [
    "### Goal: Top 20 Streamed Artists"
   ]
  },
  {
   "cell_type": "code",
   "execution_count": 18,
   "metadata": {},
   "outputs": [
    {
     "data": {
      "text/plain": [
       "JONY                67\n",
       "Charlotte Cardin    63\n",
       "Blank & Jones       51\n",
       "Elton John          45\n",
       "MamaRika            44\n",
       "                    ..\n",
       "Frederick Delius     1\n",
       "Always Never         1\n",
       "Not Tudor            1\n",
       "Edoardo Más          1\n",
       "Marie Denis          1\n",
       "Name: artistName, Length: 134, dtype: int64"
      ]
     },
     "execution_count": 18,
     "metadata": {},
     "output_type": "execute_result"
    }
   ],
   "source": [
    "#Count the times an artist was streamed \n",
    "pd.value_counts(df['artistName'])"
   ]
  },
  {
   "cell_type": "code",
   "execution_count": 19,
   "metadata": {},
   "outputs": [
    {
     "data": {
      "text/plain": [
       "JONY                 67\n",
       "Charlotte Cardin     63\n",
       "Blank & Jones        51\n",
       "Elton John           45\n",
       "MamaRika             44\n",
       "Zivert               41\n",
       "Jay Mellock          38\n",
       "Spa                  35\n",
       "Billie Eilish        35\n",
       "Manizha              27\n",
       "Skryptonite          25\n",
       "Yolka                25\n",
       "LOBODA               24\n",
       "Dinos                22\n",
       "Kovacs               20\n",
       "Carla Morrison       18\n",
       "KOLA                 18\n",
       "104                  17\n",
       "MiyaGi & Endspiel    16\n",
       "Alla Pugacheva       15\n",
       "Name: artistName, dtype: int64"
      ]
     },
     "execution_count": 19,
     "metadata": {},
     "output_type": "execute_result"
    }
   ],
   "source": [
    "#Print the top 20 streamed artists \n",
    "pd.value_counts(df['artistName']).head(20)"
   ]
  },
  {
   "cell_type": "code",
   "execution_count": 20,
   "metadata": {},
   "outputs": [
    {
     "data": {
      "image/png": "[encoded data removed]",
      "text/plain": [
       "<Figure size 432x288 with 1 Axes>"
      ]
     },
     "metadata": {
      "needs_background": "light"
     },
     "output_type": "display_data"
    }
   ],
   "source": [
    "pd.value_counts(df['artistName']).head(20).plot(kind='barh', color='forestgreen')\n",
    "plt.xticks(rotation=45, ha='right')\n",
    "plt.title('Sep.29,2021-Sep.30,2022 | Top 20 | Streamed Artists')\n",
    "plt.ylabel('Artists')\n",
    "plt.xlabel('Count')\n",
    "figsize=(50,50)"
   ]
  },
  {
   "cell_type": "markdown",
   "metadata": {},
   "source": [
    "Findings: 'JONY' is the most listened to artists! Spotify should target more of their songs or at least auto-play these songs when a playlists is finished or songs are not queued. This may expose the are user to new songs making them more likely to use the app!"
   ]
  },
  {
   "cell_type": "markdown",
   "metadata": {},
   "source": [
    "### Goal: How many songs belongs to each artist on your library ?"
   ]
  },
  {
   "cell_type": "code",
   "execution_count": 22,
   "metadata": {},
   "outputs": [
    {
     "data": {
      "text/html": [
       "<div>\n",
       "<style scoped>\n",
       "    .dataframe tbody tr th:only-of-type {\n",
       "        vertical-align: middle;\n",
       "    }\n",
       "\n",
       "    .dataframe tbody tr th {\n",
       "        vertical-align: top;\n",
       "    }\n",
       "\n",
       "    .dataframe thead th {\n",
       "        text-align: right;\n",
       "    }\n",
       "</style>\n",
       "<table border=\"1\" class=\"dataframe\">\n",
       "  <thead>\n",
       "    <tr style=\"text-align: right;\">\n",
       "      <th></th>\n",
       "      <th>tracks</th>\n",
       "      <th>artist</th>\n",
       "      <th>album</th>\n",
       "      <th>track</th>\n",
       "      <th>uri</th>\n",
       "      <th>albums</th>\n",
       "      <th>artist.1</th>\n",
       "      <th>album.1</th>\n",
       "      <th>uri.1</th>\n",
       "      <th>shows</th>\n",
       "      <th>...</th>\n",
       "      <th>publisher</th>\n",
       "      <th>uri.2</th>\n",
       "      <th>bannedTracks</th>\n",
       "      <th>artist.2</th>\n",
       "      <th>album.2</th>\n",
       "      <th>track.1</th>\n",
       "      <th>uri.3</th>\n",
       "      <th>artists</th>\n",
       "      <th>name.1</th>\n",
       "      <th>uri.4</th>\n",
       "    </tr>\n",
       "  </thead>\n",
       "  <tbody>\n",
       "    <tr>\n",
       "      <th>0</th>\n",
       "      <td>NaN</td>\n",
       "      <td>Jay Mellock</td>\n",
       "      <td>Broken Soul</td>\n",
       "      <td>Broken Soul</td>\n",
       "      <td>spotify:track:1d3ikueIIKvezg4Vd8VY5q</td>\n",
       "      <td>NaN</td>\n",
       "      <td>Autograf</td>\n",
       "      <td>The Ace Of You</td>\n",
       "      <td>spotify:album:10iaqipBlcIzyaXNuOxVaN</td>\n",
       "      <td>NaN</td>\n",
       "      <td>...</td>\n",
       "      <td>libo/libo</td>\n",
       "      <td>spotify:show:1KEx5UrTPlqyqcCFmbBZob</td>\n",
       "      <td>NaN</td>\n",
       "      <td>Dua Lipa</td>\n",
       "      <td>Future Nostalgia</td>\n",
       "      <td>Love Again</td>\n",
       "      <td>spotify:track:4rPkN1FMzQyFNP9cLUGIIB</td>\n",
       "      <td>NaN</td>\n",
       "      <td>Autograf</td>\n",
       "      <td>spotify:artist:0FVj4JuzTyudaXAwfqDQ20</td>\n",
       "    </tr>\n",
       "    <tr>\n",
       "      <th>1</th>\n",
       "      <td>NaN</td>\n",
       "      <td>GUF</td>\n",
       "      <td>Лето на ветер</td>\n",
       "      <td>Лето на ветер</td>\n",
       "      <td>spotify:track:5EGqVNNOy1yv1xpQI05qwq</td>\n",
       "      <td>NaN</td>\n",
       "      <td>NaN</td>\n",
       "      <td>NaN</td>\n",
       "      <td>NaN</td>\n",
       "      <td>NaN</td>\n",
       "      <td>...</td>\n",
       "      <td>NaN</td>\n",
       "      <td>NaN</td>\n",
       "      <td>NaN</td>\n",
       "      <td>NaN</td>\n",
       "      <td>NaN</td>\n",
       "      <td>NaN</td>\n",
       "      <td>NaN</td>\n",
       "      <td>NaN</td>\n",
       "      <td>NaN</td>\n",
       "      <td>NaN</td>\n",
       "    </tr>\n",
       "    <tr>\n",
       "      <th>2</th>\n",
       "      <td>NaN</td>\n",
       "      <td>Haiva Ru</td>\n",
       "      <td>Swim</td>\n",
       "      <td>Swim</td>\n",
       "      <td>spotify:track:2vbwY93OSQjlbEQvl6GYjy</td>\n",
       "      <td>NaN</td>\n",
       "      <td>NaN</td>\n",
       "      <td>NaN</td>\n",
       "      <td>NaN</td>\n",
       "      <td>NaN</td>\n",
       "      <td>...</td>\n",
       "      <td>NaN</td>\n",
       "      <td>NaN</td>\n",
       "      <td>NaN</td>\n",
       "      <td>NaN</td>\n",
       "      <td>NaN</td>\n",
       "      <td>NaN</td>\n",
       "      <td>NaN</td>\n",
       "      <td>NaN</td>\n",
       "      <td>NaN</td>\n",
       "      <td>NaN</td>\n",
       "    </tr>\n",
       "    <tr>\n",
       "      <th>3</th>\n",
       "      <td>NaN</td>\n",
       "      <td>Adler Kotsba</td>\n",
       "      <td>Запах моей женщины</td>\n",
       "      <td>Запах моей женщины</td>\n",
       "      <td>spotify:track:5iNedYwH8uAYVasEQKYq4R</td>\n",
       "      <td>NaN</td>\n",
       "      <td>NaN</td>\n",
       "      <td>NaN</td>\n",
       "      <td>NaN</td>\n",
       "      <td>NaN</td>\n",
       "      <td>...</td>\n",
       "      <td>NaN</td>\n",
       "      <td>NaN</td>\n",
       "      <td>NaN</td>\n",
       "      <td>NaN</td>\n",
       "      <td>NaN</td>\n",
       "      <td>NaN</td>\n",
       "      <td>NaN</td>\n",
       "      <td>NaN</td>\n",
       "      <td>NaN</td>\n",
       "      <td>NaN</td>\n",
       "    </tr>\n",
       "    <tr>\n",
       "      <th>4</th>\n",
       "      <td>NaN</td>\n",
       "      <td>Manizha</td>\n",
       "      <td>ЯIAM</td>\n",
       "      <td>мама</td>\n",
       "      <td>spotify:track:4VwsOTFL2Mw3dzNj0c9vJq</td>\n",
       "      <td>NaN</td>\n",
       "      <td>NaN</td>\n",
       "      <td>NaN</td>\n",
       "      <td>NaN</td>\n",
       "      <td>NaN</td>\n",
       "      <td>...</td>\n",
       "      <td>NaN</td>\n",
       "      <td>NaN</td>\n",
       "      <td>NaN</td>\n",
       "      <td>NaN</td>\n",
       "      <td>NaN</td>\n",
       "      <td>NaN</td>\n",
       "      <td>NaN</td>\n",
       "      <td>NaN</td>\n",
       "      <td>NaN</td>\n",
       "      <td>NaN</td>\n",
       "    </tr>\n",
       "    <tr>\n",
       "      <th>...</th>\n",
       "      <td>...</td>\n",
       "      <td>...</td>\n",
       "      <td>...</td>\n",
       "      <td>...</td>\n",
       "      <td>...</td>\n",
       "      <td>...</td>\n",
       "      <td>...</td>\n",
       "      <td>...</td>\n",
       "      <td>...</td>\n",
       "      <td>...</td>\n",
       "      <td>...</td>\n",
       "      <td>...</td>\n",
       "      <td>...</td>\n",
       "      <td>...</td>\n",
       "      <td>...</td>\n",
       "      <td>...</td>\n",
       "      <td>...</td>\n",
       "      <td>...</td>\n",
       "      <td>...</td>\n",
       "      <td>...</td>\n",
       "      <td>...</td>\n",
       "    </tr>\n",
       "    <tr>\n",
       "      <th>112</th>\n",
       "      <td>NaN</td>\n",
       "      <td>MiyaGi &amp; Endspiel</td>\n",
       "      <td>NaN</td>\n",
       "      <td>NaN</td>\n",
       "      <td>spotify:artist:6L5bLEtpxwd0KOdOr3gtW4</td>\n",
       "      <td>NaN</td>\n",
       "      <td>NaN</td>\n",
       "      <td>NaN</td>\n",
       "      <td>NaN</td>\n",
       "      <td>NaN</td>\n",
       "      <td>...</td>\n",
       "      <td>NaN</td>\n",
       "      <td>NaN</td>\n",
       "      <td>NaN</td>\n",
       "      <td>NaN</td>\n",
       "      <td>NaN</td>\n",
       "      <td>NaN</td>\n",
       "      <td>NaN</td>\n",
       "      <td>NaN</td>\n",
       "      <td>NaN</td>\n",
       "      <td>NaN</td>\n",
       "    </tr>\n",
       "    <tr>\n",
       "      <th>113</th>\n",
       "      <td>NaN</td>\n",
       "      <td>Swanky Tunes</td>\n",
       "      <td>NaN</td>\n",
       "      <td>NaN</td>\n",
       "      <td>spotify:artist:06cLuOP0p7VAnBnqil1eWX</td>\n",
       "      <td>NaN</td>\n",
       "      <td>NaN</td>\n",
       "      <td>NaN</td>\n",
       "      <td>NaN</td>\n",
       "      <td>NaN</td>\n",
       "      <td>...</td>\n",
       "      <td>NaN</td>\n",
       "      <td>NaN</td>\n",
       "      <td>NaN</td>\n",
       "      <td>NaN</td>\n",
       "      <td>NaN</td>\n",
       "      <td>NaN</td>\n",
       "      <td>NaN</td>\n",
       "      <td>NaN</td>\n",
       "      <td>NaN</td>\n",
       "      <td>NaN</td>\n",
       "    </tr>\n",
       "    <tr>\n",
       "      <th>114</th>\n",
       "      <td>NaN</td>\n",
       "      <td>The Weeknd</td>\n",
       "      <td>NaN</td>\n",
       "      <td>NaN</td>\n",
       "      <td>spotify:artist:1Xyo4u8uXC1ZmMpatF05PJ</td>\n",
       "      <td>NaN</td>\n",
       "      <td>NaN</td>\n",
       "      <td>NaN</td>\n",
       "      <td>NaN</td>\n",
       "      <td>NaN</td>\n",
       "      <td>...</td>\n",
       "      <td>NaN</td>\n",
       "      <td>NaN</td>\n",
       "      <td>NaN</td>\n",
       "      <td>NaN</td>\n",
       "      <td>NaN</td>\n",
       "      <td>NaN</td>\n",
       "      <td>NaN</td>\n",
       "      <td>NaN</td>\n",
       "      <td>NaN</td>\n",
       "      <td>NaN</td>\n",
       "    </tr>\n",
       "    <tr>\n",
       "      <th>115</th>\n",
       "      <td>NaN</td>\n",
       "      <td>Trey Lorenz</td>\n",
       "      <td>NaN</td>\n",
       "      <td>NaN</td>\n",
       "      <td>spotify:artist:23kP8xlQifcAV4nd84iHbW</td>\n",
       "      <td>NaN</td>\n",
       "      <td>NaN</td>\n",
       "      <td>NaN</td>\n",
       "      <td>NaN</td>\n",
       "      <td>NaN</td>\n",
       "      <td>...</td>\n",
       "      <td>NaN</td>\n",
       "      <td>NaN</td>\n",
       "      <td>NaN</td>\n",
       "      <td>NaN</td>\n",
       "      <td>NaN</td>\n",
       "      <td>NaN</td>\n",
       "      <td>NaN</td>\n",
       "      <td>NaN</td>\n",
       "      <td>NaN</td>\n",
       "      <td>NaN</td>\n",
       "    </tr>\n",
       "    <tr>\n",
       "      <th>116</th>\n",
       "      <td>NaN</td>\n",
       "      <td>Zivert</td>\n",
       "      <td>NaN</td>\n",
       "      <td>NaN</td>\n",
       "      <td>spotify:artist:1pvmXh50KezixmCHnp9XvV</td>\n",
       "      <td>NaN</td>\n",
       "      <td>NaN</td>\n",
       "      <td>NaN</td>\n",
       "      <td>NaN</td>\n",
       "      <td>NaN</td>\n",
       "      <td>...</td>\n",
       "      <td>NaN</td>\n",
       "      <td>NaN</td>\n",
       "      <td>NaN</td>\n",
       "      <td>NaN</td>\n",
       "      <td>NaN</td>\n",
       "      <td>NaN</td>\n",
       "      <td>NaN</td>\n",
       "      <td>NaN</td>\n",
       "      <td>NaN</td>\n",
       "      <td>NaN</td>\n",
       "    </tr>\n",
       "  </tbody>\n",
       "</table>\n",
       "<p>117 rows × 21 columns</p>\n",
       "</div>"
      ],
      "text/plain": [
       "     tracks             artist               album               track  \\\n",
       "0       NaN        Jay Mellock         Broken Soul         Broken Soul   \n",
       "1       NaN                GUF       Лето на ветер       Лето на ветер   \n",
       "2       NaN           Haiva Ru                Swim                Swim   \n",
       "3       NaN       Adler Kotsba  Запах моей женщины  Запах моей женщины   \n",
       "4       NaN            Manizha                ЯIAM                мама   \n",
       "..      ...                ...                 ...                 ...   \n",
       "112     NaN  MiyaGi & Endspiel                 NaN                 NaN   \n",
       "113     NaN       Swanky Tunes                 NaN                 NaN   \n",
       "114     NaN         The Weeknd                 NaN                 NaN   \n",
       "115     NaN        Trey Lorenz                 NaN                 NaN   \n",
       "116     NaN             Zivert                 NaN                 NaN   \n",
       "\n",
       "                                       uri  albums  artist.1         album.1  \\\n",
       "0     spotify:track:1d3ikueIIKvezg4Vd8VY5q     NaN  Autograf  The Ace Of You   \n",
       "1     spotify:track:5EGqVNNOy1yv1xpQI05qwq     NaN       NaN             NaN   \n",
       "2     spotify:track:2vbwY93OSQjlbEQvl6GYjy     NaN       NaN             NaN   \n",
       "3     spotify:track:5iNedYwH8uAYVasEQKYq4R     NaN       NaN             NaN   \n",
       "4     spotify:track:4VwsOTFL2Mw3dzNj0c9vJq     NaN       NaN             NaN   \n",
       "..                                     ...     ...       ...             ...   \n",
       "112  spotify:artist:6L5bLEtpxwd0KOdOr3gtW4     NaN       NaN             NaN   \n",
       "113  spotify:artist:06cLuOP0p7VAnBnqil1eWX     NaN       NaN             NaN   \n",
       "114  spotify:artist:1Xyo4u8uXC1ZmMpatF05PJ     NaN       NaN             NaN   \n",
       "115  spotify:artist:23kP8xlQifcAV4nd84iHbW     NaN       NaN             NaN   \n",
       "116  spotify:artist:1pvmXh50KezixmCHnp9XvV     NaN       NaN             NaN   \n",
       "\n",
       "                                    uri.1  shows  ...  publisher  \\\n",
       "0    spotify:album:10iaqipBlcIzyaXNuOxVaN    NaN  ...  libo/libo   \n",
       "1                                     NaN    NaN  ...        NaN   \n",
       "2                                     NaN    NaN  ...        NaN   \n",
       "3                                     NaN    NaN  ...        NaN   \n",
       "4                                     NaN    NaN  ...        NaN   \n",
       "..                                    ...    ...  ...        ...   \n",
       "112                                   NaN    NaN  ...        NaN   \n",
       "113                                   NaN    NaN  ...        NaN   \n",
       "114                                   NaN    NaN  ...        NaN   \n",
       "115                                   NaN    NaN  ...        NaN   \n",
       "116                                   NaN    NaN  ...        NaN   \n",
       "\n",
       "                                   uri.2 bannedTracks  artist.2  \\\n",
       "0    spotify:show:1KEx5UrTPlqyqcCFmbBZob          NaN  Dua Lipa   \n",
       "1                                    NaN          NaN       NaN   \n",
       "2                                    NaN          NaN       NaN   \n",
       "3                                    NaN          NaN       NaN   \n",
       "4                                    NaN          NaN       NaN   \n",
       "..                                   ...          ...       ...   \n",
       "112                                  NaN          NaN       NaN   \n",
       "113                                  NaN          NaN       NaN   \n",
       "114                                  NaN          NaN       NaN   \n",
       "115                                  NaN          NaN       NaN   \n",
       "116                                  NaN          NaN       NaN   \n",
       "\n",
       "              album.2     track.1                                 uri.3  \\\n",
       "0    Future Nostalgia  Love Again  spotify:track:4rPkN1FMzQyFNP9cLUGIIB   \n",
       "1                 NaN         NaN                                   NaN   \n",
       "2                 NaN         NaN                                   NaN   \n",
       "3                 NaN         NaN                                   NaN   \n",
       "4                 NaN         NaN                                   NaN   \n",
       "..                ...         ...                                   ...   \n",
       "112               NaN         NaN                                   NaN   \n",
       "113               NaN         NaN                                   NaN   \n",
       "114               NaN         NaN                                   NaN   \n",
       "115               NaN         NaN                                   NaN   \n",
       "116               NaN         NaN                                   NaN   \n",
       "\n",
       "    artists    name.1                                  uri.4  \n",
       "0       NaN  Autograf  spotify:artist:0FVj4JuzTyudaXAwfqDQ20  \n",
       "1       NaN       NaN                                    NaN  \n",
       "2       NaN       NaN                                    NaN  \n",
       "3       NaN       NaN                                    NaN  \n",
       "4       NaN       NaN                                    NaN  \n",
       "..      ...       ...                                    ...  \n",
       "112     NaN       NaN                                    NaN  \n",
       "113     NaN       NaN                                    NaN  \n",
       "114     NaN       NaN                                    NaN  \n",
       "115     NaN       NaN                                    NaN  \n",
       "116     NaN       NaN                                    NaN  \n",
       "\n",
       "[117 rows x 21 columns]"
      ]
     },
     "execution_count": 22,
     "metadata": {},
     "output_type": "execute_result"
    }
   ],
   "source": [
    "#Import 'YourLibraty' data\n",
    "Libraty = pd.read_excel('/Users/administrator/Desktop/gitHUB/Creating_visualizations_with_Spotify_data_ /MyData/YourLibrary.json.xlsx')\n",
    "Libraty\n",
    "\n",
    "def load_data(file):                                                    \n",
    "    return pd.read_csv(file, sep = \",\", index_col = False, header=0)\n",
    "Libraty=pd.read_excel(\"YourLibrary.json.xlsx\")\n",
    "Libraty"
   ]
  },
  {
   "cell_type": "code",
   "execution_count": 23,
   "metadata": {},
   "outputs": [
    {
     "data": {
      "text/plain": [
       "tracks            0\n",
       "artist          117\n",
       "album           106\n",
       "track           106\n",
       "uri             117\n",
       "albums            0\n",
       "artist.1          1\n",
       "album.1           1\n",
       "uri.1             1\n",
       "shows             0\n",
       "name              1\n",
       "publisher         1\n",
       "uri.2             1\n",
       "bannedTracks      0\n",
       "artist.2          1\n",
       "album.2           1\n",
       "track.1           1\n",
       "uri.3             1\n",
       "artists           0\n",
       "name.1            1\n",
       "uri.4             1\n",
       "dtype: int64"
      ]
     },
     "execution_count": 23,
     "metadata": {},
     "output_type": "execute_result"
    }
   ],
   "source": [
    "Libraty.count()"
   ]
  },
  {
   "cell_type": "code",
   "execution_count": 25,
   "metadata": {},
   "outputs": [],
   "source": [
    "Libraty1=Libraty.drop(['albums' , 'artist.1', 'album.1', 'uri.1','shows', 'publisher',\n",
    "                        'uri.2', 'bannedTracks', 'artist.2', 'album.2', 'track.1', 'uri.3',\n",
    "                        'artists','name.1','uri.4'], axis = 1)"
   ]
  },
  {
   "cell_type": "code",
   "execution_count": 26,
   "metadata": {},
   "outputs": [
    {
     "data": {
      "text/plain": [
       "tracks      0\n",
       "artist    117\n",
       "album     106\n",
       "track     106\n",
       "uri       117\n",
       "name        1\n",
       "dtype: int64"
      ]
     },
     "execution_count": 26,
     "metadata": {},
     "output_type": "execute_result"
    }
   ],
   "source": [
    "Libraty1.count()"
   ]
  },
  {
   "cell_type": "code",
   "execution_count": 27,
   "metadata": {},
   "outputs": [
    {
     "data": {
      "text/plain": [
       "81"
      ]
     },
     "execution_count": 27,
     "metadata": {},
     "output_type": "execute_result"
    }
   ],
   "source": [
    "Libraty1['artist'].nunique()"
   ]
  },
  {
   "cell_type": "code",
   "execution_count": 28,
   "metadata": {},
   "outputs": [
    {
     "data": {
      "text/plain": [
       "Blank & Jones        4\n",
       "Zivert               4\n",
       "The Weeknd           3\n",
       "MiyaGi & Endspiel    3\n",
       "Billie Eilish        3\n",
       "                    ..\n",
       "Havana               1\n",
       "Mostus               1\n",
       "Chicane              1\n",
       "Nicholas Hill        1\n",
       "Mitch Oliver         1\n",
       "Name: artist, Length: 81, dtype: int64"
      ]
     },
     "execution_count": 28,
     "metadata": {},
     "output_type": "execute_result"
    }
   ],
   "source": [
    "#count of songs on each artist\n",
    "pd.value_counts(Libraty1['artist'])"
   ]
  },
  {
   "cell_type": "code",
   "execution_count": 31,
   "metadata": {},
   "outputs": [
    {
     "data": {
      "text/plain": [
       "Text(0.5, 0, 'Artist Names')"
      ]
     },
     "execution_count": 31,
     "metadata": {},
     "output_type": "execute_result"
    },
    {
     "data": {
      "image/png": "[encoded data removed]",
      "text/plain": [
       "<Figure size 1440x216 with 1 Axes>"
      ]
     },
     "metadata": {
      "needs_background": "light"
     },
     "output_type": "display_data"
    }
   ],
   "source": [
    "#Create a bar graph count of songs on each artist\n",
    "pd.value_counts(Libraty1['artist']).plot(kind='bar',color='blue')\n",
    "plt.rcParams[\"figure.figsize\"] = (20,10)\n",
    "plt.xticks(rotation=90, ha='right')\n",
    "plt.title('Count of Songs per Artist')\n",
    "plt.ylabel('Count')\n",
    "plt.xlabel('Artist Names')"
   ]
  },
  {
   "cell_type": "code",
   "execution_count": null,
   "metadata": {},
   "outputs": [],
   "source": []
  }
 ],
 "metadata": {
  "kernelspec": {
   "display_name": "Python 3",
   "language": "python",
   "name": "python3"
  },
  "language_info": {
   "codemirror_mode": {
    "name": "ipython",
    "version": 3
   },
   "file_extension": ".py",
   "mimetype": "text/x-python",
   "name": "python",
   "nbconvert_exporter": "python",
   "pygments_lexer": "ipython3",
   "version": "3.8.3"
  }
 },
 "nbformat": 4,
 "nbformat_minor": 4
}
